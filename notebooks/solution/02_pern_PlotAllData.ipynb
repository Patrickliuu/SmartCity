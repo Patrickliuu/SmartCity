{
 "cells": [
  {
   "cell_type": "markdown",
   "id": "8354f956-9d58-49e9-becc-93aadc2d47b7",
   "metadata": {
    "slideshow": {
     "slide_type": "slide"
    },
    "tags": []
   },
   "source": [
    "# Exploratory Data Analysis on the UWO dataset\n",
    "WV.DSIOT\n",
    "\n",
    "Done by KPP (pern) in 2024!"
   ]
  },
  {
   "cell_type": "markdown",
   "id": "71d5e2cd",
   "metadata": {
    "slideshow": {
     "slide_type": "skip"
    }
   },
   "source": [
    "## Setup notebook"
   ]
  },
  {
   "cell_type": "code",
   "execution_count": 1,
   "id": "da59cf93",
   "metadata": {
    "slideshow": {
     "slide_type": "skip"
    },
    "ExecuteTime": {
     "end_time": "2024-03-05T16:08:49.488184Z",
     "start_time": "2024-03-05T16:08:49.453883Z"
    }
   },
   "outputs": [],
   "source": [
    "# enable autoreload when modules are changed externally\n",
    "%load_ext autoreload\n",
    "%autoreload 2"
   ]
  },
  {
   "cell_type": "code",
   "execution_count": 2,
   "id": "e79f9014-2ff5-4722-a0d5-137480650721",
   "metadata": {
    "slideshow": {
     "slide_type": "skip"
    },
    "tags": [],
    "ExecuteTime": {
     "end_time": "2024-03-05T16:08:52.708132Z",
     "start_time": "2024-03-05T16:08:50.882378Z"
    }
   },
   "outputs": [
    {
     "data": {
      "text/html": "    <style>\n        .bk-notebook-logo {\n            display: block;\n            width: 20px;\n            height: 20px;\n            background-image: url(data:image/png;base64,iVBORw0KGgoAAAANSUhEUgAAABQAAAAUCAYAAACNiR0NAAAABHNCSVQICAgIfAhkiAAAAAlwSFlzAAALEgAACxIB0t1+/AAAABx0RVh0U29mdHdhcmUAQWRvYmUgRmlyZXdvcmtzIENTNui8sowAAAOkSURBVDiNjZRtaJVlGMd/1/08zzln5zjP1LWcU9N0NkN8m2CYjpgQYQXqSs0I84OLIC0hkEKoPtiH3gmKoiJDU7QpLgoLjLIQCpEsNJ1vqUOdO7ppbuec5+V+rj4ctwzd8IIbbi6u+8f1539dt3A78eXC7QizUF7gyV1fD1Yqg4JWz84yffhm0qkFqBogB9rM8tZdtwVsPUhWhGcFJngGeWrPzHm5oaMmkfEg1usvLFyc8jLRqDOMru7AyC8saQr7GG7f5fvDeH7Ej8CM66nIF+8yngt6HWaKh7k49Soy9nXurCi1o3qUbS3zWfrYeQDTB/Qj6kX6Ybhw4B+bOYoLKCC9H3Nu/leUTZ1JdRWkkn2ldcCamzrcf47KKXdAJllSlxAOkRgyHsGC/zRday5Qld9DyoM4/q/rUoy/CXh3jzOu3bHUVZeU+DEn8FInkPBFlu3+nW3Nw0mk6vCDiWg8CeJaxEwuHS3+z5RgY+YBR6V1Z1nxSOfoaPa4LASWxxdNp+VWTk7+4vzaou8v8PN+xo+KY2xsw6une2frhw05CTYOmQvsEhjhWjn0bmXPjpE1+kplmmkP3suftwTubK9Vq22qKmrBhpY4jvd5afdRA3wGjFAgcnTK2s4hY0/GPNIb0nErGMCRxWOOX64Z8RAC4oCXdklmEvcL8o0BfkNK4lUg9HTl+oPlQxdNo3Mg4Nv175e/1LDGzZen30MEjRUtmXSfiTVu1kK8W4txyV6BMKlbgk3lMwYCiusNy9fVfvvwMxv8Ynl6vxoByANLTWplvuj/nF9m2+PDtt1eiHPBr1oIfhCChQMBw6Aw0UulqTKZdfVvfG7VcfIqLG9bcldL/+pdWTLxLUy8Qq38heUIjh4XlzZxzQm19lLFlr8vdQ97rjZVOLf8nclzckbcD4wxXMidpX30sFd37Fv/GtwwhzhxGVAprjbg0gCAEeIgwCZyTV2Z1REEW8O4py0wsjeloKoMr6iCY6dP92H6Vw/oTyICIthibxjm/DfN9lVz8IqtqKYLUXfoKVMVQVVJOElGjrnnUt9T9wbgp8AyYKaGlqingHZU/uG2NTZSVqwHQTWkx9hxjkpWDaCg6Ckj5qebgBVbT3V3NNXMSiWSDdGV3hrtzla7J+duwPOToIg42ChPQOQjspnSlp1V+Gjdged7+8UN5CRAV7a5EdFNwCjEaBR27b3W890TE7g24NAP/mMDXRWrGoFPQI9ls/MWO2dWFAar/xcOIImbbpA3zgAAAABJRU5ErkJggg==);\n        }\n    </style>\n    <div>\n        <a href=\"https://bokeh.org\" target=\"_blank\" class=\"bk-notebook-logo\"></a>\n        <span id=\"c6494876-1997-4dce-9600-452b65ce7cd3\">Loading BokehJS ...</span>\n    </div>\n"
     },
     "metadata": {},
     "output_type": "display_data"
    },
    {
     "data": {
      "application/javascript": "(function(root) {\n  function now() {\n    return new Date();\n  }\n\n  const force = true;\n\n  if (typeof root._bokeh_onload_callbacks === \"undefined\" || force === true) {\n    root._bokeh_onload_callbacks = [];\n    root._bokeh_is_loading = undefined;\n  }\n\nconst JS_MIME_TYPE = 'application/javascript';\n  const HTML_MIME_TYPE = 'text/html';\n  const EXEC_MIME_TYPE = 'application/vnd.bokehjs_exec.v0+json';\n  const CLASS_NAME = 'output_bokeh rendered_html';\n\n  /**\n   * Render data to the DOM node\n   */\n  function render(props, node) {\n    const script = document.createElement(\"script\");\n    node.appendChild(script);\n  }\n\n  /**\n   * Handle when an output is cleared or removed\n   */\n  function handleClearOutput(event, handle) {\n    function drop(id) {\n      const view = Bokeh.index.get_by_id(id)\n      if (view != null) {\n        view.model.document.clear()\n        Bokeh.index.delete(view)\n      }\n    }\n\n    const cell = handle.cell;\n\n    const id = cell.output_area._bokeh_element_id;\n    const server_id = cell.output_area._bokeh_server_id;\n\n    // Clean up Bokeh references\n    if (id != null) {\n      drop(id)\n    }\n\n    if (server_id !== undefined) {\n      // Clean up Bokeh references\n      const cmd_clean = \"from bokeh.io.state import curstate; print(curstate().uuid_to_server['\" + server_id + \"'].get_sessions()[0].document.roots[0]._id)\";\n      cell.notebook.kernel.execute(cmd_clean, {\n        iopub: {\n          output: function(msg) {\n            const id = msg.content.text.trim()\n            drop(id)\n          }\n        }\n      });\n      // Destroy server and session\n      const cmd_destroy = \"import bokeh.io.notebook as ion; ion.destroy_server('\" + server_id + \"')\";\n      cell.notebook.kernel.execute(cmd_destroy);\n    }\n  }\n\n  /**\n   * Handle when a new output is added\n   */\n  function handleAddOutput(event, handle) {\n    const output_area = handle.output_area;\n    const output = handle.output;\n\n    // limit handleAddOutput to display_data with EXEC_MIME_TYPE content only\n    if ((output.output_type != \"display_data\") || (!Object.prototype.hasOwnProperty.call(output.data, EXEC_MIME_TYPE))) {\n      return\n    }\n\n    const toinsert = output_area.element.find(\".\" + CLASS_NAME.split(' ')[0]);\n\n    if (output.metadata[EXEC_MIME_TYPE][\"id\"] !== undefined) {\n      toinsert[toinsert.length - 1].firstChild.textContent = output.data[JS_MIME_TYPE];\n      // store reference to embed id on output_area\n      output_area._bokeh_element_id = output.metadata[EXEC_MIME_TYPE][\"id\"];\n    }\n    if (output.metadata[EXEC_MIME_TYPE][\"server_id\"] !== undefined) {\n      const bk_div = document.createElement(\"div\");\n      bk_div.innerHTML = output.data[HTML_MIME_TYPE];\n      const script_attrs = bk_div.children[0].attributes;\n      for (let i = 0; i < script_attrs.length; i++) {\n        toinsert[toinsert.length - 1].firstChild.setAttribute(script_attrs[i].name, script_attrs[i].value);\n        toinsert[toinsert.length - 1].firstChild.textContent = bk_div.children[0].textContent\n      }\n      // store reference to server id on output_area\n      output_area._bokeh_server_id = output.metadata[EXEC_MIME_TYPE][\"server_id\"];\n    }\n  }\n\n  function register_renderer(events, OutputArea) {\n\n    function append_mime(data, metadata, element) {\n      // create a DOM node to render to\n      const toinsert = this.create_output_subarea(\n        metadata,\n        CLASS_NAME,\n        EXEC_MIME_TYPE\n      );\n      this.keyboard_manager.register_events(toinsert);\n      // Render to node\n      const props = {data: data, metadata: metadata[EXEC_MIME_TYPE]};\n      render(props, toinsert[toinsert.length - 1]);\n      element.append(toinsert);\n      return toinsert\n    }\n\n    /* Handle when an output is cleared or removed */\n    events.on('clear_output.CodeCell', handleClearOutput);\n    events.on('delete.Cell', handleClearOutput);\n\n    /* Handle when a new output is added */\n    events.on('output_added.OutputArea', handleAddOutput);\n\n    /**\n     * Register the mime type and append_mime function with output_area\n     */\n    OutputArea.prototype.register_mime_type(EXEC_MIME_TYPE, append_mime, {\n      /* Is output safe? */\n      safe: true,\n      /* Index of renderer in `output_area.display_order` */\n      index: 0\n    });\n  }\n\n  // register the mime type if in Jupyter Notebook environment and previously unregistered\n  if (root.Jupyter !== undefined) {\n    const events = require('base/js/events');\n    const OutputArea = require('notebook/js/outputarea').OutputArea;\n\n    if (OutputArea.prototype.mime_types().indexOf(EXEC_MIME_TYPE) == -1) {\n      register_renderer(events, OutputArea);\n    }\n  }\n  if (typeof (root._bokeh_timeout) === \"undefined\" || force === true) {\n    root._bokeh_timeout = Date.now() + 5000;\n    root._bokeh_failed_load = false;\n  }\n\n  const NB_LOAD_WARNING = {'data': {'text/html':\n     \"<div style='background-color: #fdd'>\\n\"+\n     \"<p>\\n\"+\n     \"BokehJS does not appear to have successfully loaded. If loading BokehJS from CDN, this \\n\"+\n     \"may be due to a slow or bad network connection. Possible fixes:\\n\"+\n     \"</p>\\n\"+\n     \"<ul>\\n\"+\n     \"<li>re-rerun `output_notebook()` to attempt to load from CDN again, or</li>\\n\"+\n     \"<li>use INLINE resources instead, as so:</li>\\n\"+\n     \"</ul>\\n\"+\n     \"<code>\\n\"+\n     \"from bokeh.resources import INLINE\\n\"+\n     \"output_notebook(resources=INLINE)\\n\"+\n     \"</code>\\n\"+\n     \"</div>\"}};\n\n  function display_loaded() {\n    const el = document.getElementById(\"c6494876-1997-4dce-9600-452b65ce7cd3\");\n    if (el != null) {\n      el.textContent = \"BokehJS is loading...\";\n    }\n    if (root.Bokeh !== undefined) {\n      if (el != null) {\n        el.textContent = \"BokehJS \" + root.Bokeh.version + \" successfully loaded.\";\n      }\n    } else if (Date.now() < root._bokeh_timeout) {\n      setTimeout(display_loaded, 100)\n    }\n  }\n\n  function run_callbacks() {\n    try {\n      root._bokeh_onload_callbacks.forEach(function(callback) {\n        if (callback != null)\n          callback();\n      });\n    } finally {\n      delete root._bokeh_onload_callbacks\n    }\n    console.debug(\"Bokeh: all callbacks have finished\");\n  }\n\n  function load_libs(css_urls, js_urls, callback) {\n    if (css_urls == null) css_urls = [];\n    if (js_urls == null) js_urls = [];\n\n    root._bokeh_onload_callbacks.push(callback);\n    if (root._bokeh_is_loading > 0) {\n      console.debug(\"Bokeh: BokehJS is being loaded, scheduling callback at\", now());\n      return null;\n    }\n    if (js_urls == null || js_urls.length === 0) {\n      run_callbacks();\n      return null;\n    }\n    console.debug(\"Bokeh: BokehJS not loaded, scheduling load and callback at\", now());\n    root._bokeh_is_loading = css_urls.length + js_urls.length;\n\n    function on_load() {\n      root._bokeh_is_loading--;\n      if (root._bokeh_is_loading === 0) {\n        console.debug(\"Bokeh: all BokehJS libraries/stylesheets loaded\");\n        run_callbacks()\n      }\n    }\n\n    function on_error(url) {\n      console.error(\"failed to load \" + url);\n    }\n\n    for (let i = 0; i < css_urls.length; i++) {\n      const url = css_urls[i];\n      const element = document.createElement(\"link\");\n      element.onload = on_load;\n      element.onerror = on_error.bind(null, url);\n      element.rel = \"stylesheet\";\n      element.type = \"text/css\";\n      element.href = url;\n      console.debug(\"Bokeh: injecting link tag for BokehJS stylesheet: \", url);\n      document.body.appendChild(element);\n    }\n\n    for (let i = 0; i < js_urls.length; i++) {\n      const url = js_urls[i];\n      const element = document.createElement('script');\n      element.onload = on_load;\n      element.onerror = on_error.bind(null, url);\n      element.async = false;\n      element.src = url;\n      console.debug(\"Bokeh: injecting script tag for BokehJS library: \", url);\n      document.head.appendChild(element);\n    }\n  };\n\n  function inject_raw_css(css) {\n    const element = document.createElement(\"style\");\n    element.appendChild(document.createTextNode(css));\n    document.body.appendChild(element);\n  }\n\n  const js_urls = [\"https://cdn.bokeh.org/bokeh/release/bokeh-3.3.4.min.js\", \"https://cdn.bokeh.org/bokeh/release/bokeh-gl-3.3.4.min.js\", \"https://cdn.bokeh.org/bokeh/release/bokeh-widgets-3.3.4.min.js\", \"https://cdn.bokeh.org/bokeh/release/bokeh-tables-3.3.4.min.js\", \"https://cdn.bokeh.org/bokeh/release/bokeh-mathjax-3.3.4.min.js\"];\n  const css_urls = [];\n\n  const inline_js = [    function(Bokeh) {\n      Bokeh.set_log_level(\"info\");\n    },\nfunction(Bokeh) {\n    }\n  ];\n\n  function run_inline_js() {\n    if (root.Bokeh !== undefined || force === true) {\n          for (let i = 0; i < inline_js.length; i++) {\n      inline_js[i].call(root, root.Bokeh);\n    }\nif (force === true) {\n        display_loaded();\n      }} else if (Date.now() < root._bokeh_timeout) {\n      setTimeout(run_inline_js, 100);\n    } else if (!root._bokeh_failed_load) {\n      console.log(\"Bokeh: BokehJS failed to load within specified timeout.\");\n      root._bokeh_failed_load = true;\n    } else if (force !== true) {\n      const cell = $(document.getElementById(\"c6494876-1997-4dce-9600-452b65ce7cd3\")).parents('.cell').data().cell;\n      cell.output_area.append_execute_result(NB_LOAD_WARNING)\n    }\n  }\n\n  if (root._bokeh_is_loading === 0) {\n    console.debug(\"Bokeh: BokehJS loaded, going straight to plotting\");\n    run_inline_js();\n  } else {\n    load_libs(css_urls, js_urls, function() {\n      console.debug(\"Bokeh: BokehJS plotting callback run at\", now());\n      run_inline_js();\n    });\n  }\n}(window));",
      "application/vnd.bokehjs_load.v0+json": "(function(root) {\n  function now() {\n    return new Date();\n  }\n\n  const force = true;\n\n  if (typeof root._bokeh_onload_callbacks === \"undefined\" || force === true) {\n    root._bokeh_onload_callbacks = [];\n    root._bokeh_is_loading = undefined;\n  }\n\n\n  if (typeof (root._bokeh_timeout) === \"undefined\" || force === true) {\n    root._bokeh_timeout = Date.now() + 5000;\n    root._bokeh_failed_load = false;\n  }\n\n  const NB_LOAD_WARNING = {'data': {'text/html':\n     \"<div style='background-color: #fdd'>\\n\"+\n     \"<p>\\n\"+\n     \"BokehJS does not appear to have successfully loaded. If loading BokehJS from CDN, this \\n\"+\n     \"may be due to a slow or bad network connection. Possible fixes:\\n\"+\n     \"</p>\\n\"+\n     \"<ul>\\n\"+\n     \"<li>re-rerun `output_notebook()` to attempt to load from CDN again, or</li>\\n\"+\n     \"<li>use INLINE resources instead, as so:</li>\\n\"+\n     \"</ul>\\n\"+\n     \"<code>\\n\"+\n     \"from bokeh.resources import INLINE\\n\"+\n     \"output_notebook(resources=INLINE)\\n\"+\n     \"</code>\\n\"+\n     \"</div>\"}};\n\n  function display_loaded() {\n    const el = document.getElementById(\"c6494876-1997-4dce-9600-452b65ce7cd3\");\n    if (el != null) {\n      el.textContent = \"BokehJS is loading...\";\n    }\n    if (root.Bokeh !== undefined) {\n      if (el != null) {\n        el.textContent = \"BokehJS \" + root.Bokeh.version + \" successfully loaded.\";\n      }\n    } else if (Date.now() < root._bokeh_timeout) {\n      setTimeout(display_loaded, 100)\n    }\n  }\n\n  function run_callbacks() {\n    try {\n      root._bokeh_onload_callbacks.forEach(function(callback) {\n        if (callback != null)\n          callback();\n      });\n    } finally {\n      delete root._bokeh_onload_callbacks\n    }\n    console.debug(\"Bokeh: all callbacks have finished\");\n  }\n\n  function load_libs(css_urls, js_urls, callback) {\n    if (css_urls == null) css_urls = [];\n    if (js_urls == null) js_urls = [];\n\n    root._bokeh_onload_callbacks.push(callback);\n    if (root._bokeh_is_loading > 0) {\n      console.debug(\"Bokeh: BokehJS is being loaded, scheduling callback at\", now());\n      return null;\n    }\n    if (js_urls == null || js_urls.length === 0) {\n      run_callbacks();\n      return null;\n    }\n    console.debug(\"Bokeh: BokehJS not loaded, scheduling load and callback at\", now());\n    root._bokeh_is_loading = css_urls.length + js_urls.length;\n\n    function on_load() {\n      root._bokeh_is_loading--;\n      if (root._bokeh_is_loading === 0) {\n        console.debug(\"Bokeh: all BokehJS libraries/stylesheets loaded\");\n        run_callbacks()\n      }\n    }\n\n    function on_error(url) {\n      console.error(\"failed to load \" + url);\n    }\n\n    for (let i = 0; i < css_urls.length; i++) {\n      const url = css_urls[i];\n      const element = document.createElement(\"link\");\n      element.onload = on_load;\n      element.onerror = on_error.bind(null, url);\n      element.rel = \"stylesheet\";\n      element.type = \"text/css\";\n      element.href = url;\n      console.debug(\"Bokeh: injecting link tag for BokehJS stylesheet: \", url);\n      document.body.appendChild(element);\n    }\n\n    for (let i = 0; i < js_urls.length; i++) {\n      const url = js_urls[i];\n      const element = document.createElement('script');\n      element.onload = on_load;\n      element.onerror = on_error.bind(null, url);\n      element.async = false;\n      element.src = url;\n      console.debug(\"Bokeh: injecting script tag for BokehJS library: \", url);\n      document.head.appendChild(element);\n    }\n  };\n\n  function inject_raw_css(css) {\n    const element = document.createElement(\"style\");\n    element.appendChild(document.createTextNode(css));\n    document.body.appendChild(element);\n  }\n\n  const js_urls = [\"https://cdn.bokeh.org/bokeh/release/bokeh-3.3.4.min.js\", \"https://cdn.bokeh.org/bokeh/release/bokeh-gl-3.3.4.min.js\", \"https://cdn.bokeh.org/bokeh/release/bokeh-widgets-3.3.4.min.js\", \"https://cdn.bokeh.org/bokeh/release/bokeh-tables-3.3.4.min.js\", \"https://cdn.bokeh.org/bokeh/release/bokeh-mathjax-3.3.4.min.js\"];\n  const css_urls = [];\n\n  const inline_js = [    function(Bokeh) {\n      Bokeh.set_log_level(\"info\");\n    },\nfunction(Bokeh) {\n    }\n  ];\n\n  function run_inline_js() {\n    if (root.Bokeh !== undefined || force === true) {\n          for (let i = 0; i < inline_js.length; i++) {\n      inline_js[i].call(root, root.Bokeh);\n    }\nif (force === true) {\n        display_loaded();\n      }} else if (Date.now() < root._bokeh_timeout) {\n      setTimeout(run_inline_js, 100);\n    } else if (!root._bokeh_failed_load) {\n      console.log(\"Bokeh: BokehJS failed to load within specified timeout.\");\n      root._bokeh_failed_load = true;\n    } else if (force !== true) {\n      const cell = $(document.getElementById(\"c6494876-1997-4dce-9600-452b65ce7cd3\")).parents('.cell').data().cell;\n      cell.output_area.append_execute_result(NB_LOAD_WARNING)\n    }\n  }\n\n  if (root._bokeh_is_loading === 0) {\n    console.debug(\"Bokeh: BokehJS loaded, going straight to plotting\");\n    run_inline_js();\n  } else {\n    load_libs(css_urls, js_urls, function() {\n      console.debug(\"Bokeh: BokehJS plotting callback run at\", now());\n      run_inline_js();\n    });\n  }\n}(window));"
     },
     "metadata": {},
     "output_type": "display_data"
    }
   ],
   "source": [
    "import os\n",
    "import pandas as pd\n",
    "import json\n",
    "\n",
    "from bokeh.io import output_notebook, show \n",
    "from bokeh.plotting import figure\n",
    "from bokeh.models import ColumnDataSource, DatetimeTickFormatter, RangeTool, HoverTool\n",
    "from bokeh.layouts import column\n",
    "from bokeh.palettes import Category20\n",
    "output_notebook()   # enables Bokeh in Jupyter notebook\n",
    "\n",
    "import src.data.UWOtools as uwot"
   ]
  },
  {
   "cell_type": "markdown",
   "id": "8a5768f8",
   "metadata": {},
   "source": [
    "## Global definitions"
   ]
  },
  {
   "cell_type": "code",
   "execution_count": 10,
   "id": "70693c85",
   "metadata": {
    "slideshow": {
     "slide_type": "slide"
    },
    "tags": [],
    "ExecuteTime": {
     "end_time": "2024-03-05T16:10:31.411236Z",
     "start_time": "2024-03-05T16:10:31.395903Z"
    }
   },
   "outputs": [],
   "source": [
    "\n",
    "StartDate = None\n",
    "EndDate = None\n",
    "\n",
    "# specify how many data points should be used for the evaluation; use None for all data points\n",
    "NrDataPoints = None # 10000 / None\n",
    "\n",
    "# set data range for the plotting the flow rates\n",
    "flow_rate_range = (0.0, 200.0)\n",
    "\n",
    "# Get the directory that contains the current file\n",
    "current_dir = os.getcwd()"
   ]
  },
  {
   "cell_type": "markdown",
   "id": "ca65745d",
   "metadata": {},
   "source": [
    "Note the flow_rate_range that was added for plotting; try plotting without setting a range, then you know why it was added."
   ]
  },
  {
   "cell_type": "markdown",
   "id": "da012ac0",
   "metadata": {},
   "source": [
    "## Get all flow sensor data"
   ]
  },
  {
   "cell_type": "markdown",
   "id": "9049588b-5e73-4ad2-ba91-3344ab23a3a6",
   "metadata": {
    "slideshow": {
     "slide_type": "slide"
    },
    "tags": []
   },
   "source": [
    "### List all sites that measure flow rate"
   ]
  },
  {
   "cell_type": "code",
   "execution_count": 1,
   "id": "e47fea38-5e88-482c-a0b3-ff765fb7bc9a",
   "metadata": {
    "slideshow": {
     "slide_type": "fragment"
    },
    "tags": [],
    "ExecuteTime": {
     "end_time": "2024-03-11T20:59:59.281324Z",
     "start_time": "2024-03-11T20:59:59.095817Z"
    }
   },
   "outputs": [
    {
     "ename": "NameError",
     "evalue": "name 'os' is not defined",
     "output_type": "error",
     "traceback": [
      "\u001B[0;31m---------------------------------------------------------------------------\u001B[0m",
      "\u001B[0;31mNameError\u001B[0m                                 Traceback (most recent call last)",
      "Cell \u001B[0;32mIn[1], line 2\u001B[0m\n\u001B[1;32m      1\u001B[0m \u001B[38;5;66;03m# this thakes a while (>17s), so store the result in a file and reload it; delete the file if you want to recompute\u001B[39;00m\n\u001B[0;32m----> 2\u001B[0m file_name \u001B[38;5;241m=\u001B[39m \u001B[43mos\u001B[49m\u001B[38;5;241m.\u001B[39mpath\u001B[38;5;241m.\u001B[39mjoin(current_dir, \u001B[38;5;124m'\u001B[39m\u001B[38;5;124mtemp\u001B[39m\u001B[38;5;124m'\u001B[39m, \u001B[38;5;124m'\u001B[39m\u001B[38;5;124mflow_rate_sites.csv\u001B[39m\u001B[38;5;124m'\u001B[39m)\n\u001B[1;32m      3\u001B[0m \u001B[38;5;28;01mif\u001B[39;00m os\u001B[38;5;241m.\u001B[39mpath\u001B[38;5;241m.\u001B[39mexists(file_name):\n\u001B[1;32m      4\u001B[0m     flow_rate_sites \u001B[38;5;241m=\u001B[39m pd\u001B[38;5;241m.\u001B[39mread_csv(file_name)\n",
      "\u001B[0;31mNameError\u001B[0m: name 'os' is not defined"
     ]
    }
   ],
   "source": [
    "# this thakes a while (>17s), so store the result in a file and reload it; delete the file if you want to recompute\n",
    "file_name = os.path.join(current_dir, 'temp', 'flow_rate_sites.csv')\n",
    "if os.path.exists(file_name):\n",
    "    flow_rate_sites = pd.read_csv(file_name)\n",
    "    print('loaded flow rate sites from file')\n",
    "else:\n",
    "    flow_rate_sites = uwot.GetSitesWithVariable('flow_rate')\n",
    "\n",
    "    # store in file\n",
    "    flow_rate_sites.to_csv(file_name, header=True, index=False)\n",
    "\n",
    "# print(flow_rate_sites)"
   ]
  },
  {
   "cell_type": "markdown",
   "id": "dd4c51a0",
   "metadata": {},
   "source": [
    "### Build list with flow sensors to evaluate"
   ]
  },
  {
   "cell_type": "code",
   "execution_count": 5,
   "id": "e3868d0d",
   "metadata": {
    "ExecuteTime": {
     "end_time": "2024-03-05T16:09:00.843220Z",
     "start_time": "2024-03-05T16:09:00.808298Z"
    }
   },
   "outputs": [
    {
     "name": "stdout",
     "output_type": "stream",
     "text": [
      "loaded flow_rate_sensor_names sites from file\n"
     ]
    }
   ],
   "source": [
    "# get all sensor names of flow sensors and exclude the overflow sensors\n",
    "# this thakes a while (3:40 min), so store the result in a file and reload it; delete the file if you want to recompute\n",
    "\n",
    "# HINT: start w/o the overflow flow sensors and include them later to see that the range check is important\n",
    "\n",
    "file_name = os.path.join(current_dir, 'temp', 'flow_rate_sensor_names.csv')\n",
    "if os.path.exists(file_name):\n",
    "    with open(file_name, 'r') as f:\n",
    "        flow_rate_sensor_names = json.load(f)\n",
    "    print('loaded flow_rate_sensor_names sites from file')\n",
    "else:\n",
    "    # init list of sensors and time series data\n",
    "    flow_rate_sensor_names = []\n",
    "\n",
    "    # iterate through all sites\n",
    "    for ii, site_row in flow_rate_sites.iterrows():\n",
    "\n",
    "        # # list all sensors installed in the site\n",
    "        # print(f\"Installed sensors in site {site_row['name']}:\")\n",
    "        # sensors = uwot.GetSensorsForSite(site_row['name'])\n",
    "        # for index, row in sensors.iterrows():\n",
    "        #     print(f\"   {row['name']}:   {row['description']}\")\n",
    "        \n",
    "        # iterate through all sensors\n",
    "        sensors = uwot.GetSensorsForSite(site_row['name'])\n",
    "        for ii, sensor_row in sensors.iterrows():\n",
    "            # check if it is a flow sensor\n",
    "            #if sensor_row['name'].startswith('bf_') and not sensor_row['name'].endswith('_overflow'):\n",
    "            if sensor_row['name'].startswith('bf_'):\n",
    "                # add to sensor list\n",
    "                flow_rate_sensor_names.append(sensor_row['name'])\n",
    "                print(f\"Adding sensor '{sensor_row['name']}':   {sensor_row['description']}\")\n",
    "    \n",
    "    # store in file\n",
    "    with open(file_name, 'w') as f:\n",
    "        json.dump(flow_rate_sensor_names, f)\n",
    "\n",
    "# # print the sensor names neatly underneath each other\n",
    "# print(\"\\n\".join(flow_rate_sensor_names))\n"
   ]
  },
  {
   "cell_type": "markdown",
   "id": "e7b1729f",
   "metadata": {},
   "source": [
    "### Get all sensor data"
   ]
  },
  {
   "cell_type": "markdown",
   "id": "62f3d54b",
   "metadata": {},
   "source": [
    "#### Version 1: limit number of data points"
   ]
  },
  {
   "attachments": {
    "image.png": {
     "image/png": "[encoded data removed]"
    }
   },
   "cell_type": "markdown",
   "id": "6830878b",
   "metadata": {},
   "source": [
    "We limit the number of data points to 100 to show the desired effect. If the number is increased to 10'000, I experience an out of memory error for the selected time period; the resulting data frame would be 29 GiB in size!!\n",
    "![image.png](attachment:image.png)"
   ]
  },
  {
   "cell_type": "code",
   "execution_count": null,
   "id": "e5b7ae3a",
   "metadata": {
    "ExecuteTime": {
     "start_time": "2024-03-05T15:58:09.830204Z"
    }
   },
   "outputs": [
    {
     "name": "stdout",
     "output_type": "stream",
     "text": [
      "bf_f07_23_bahnhofstr               : 122022 entries found\n",
      "bf_plsRKPI1102_rubpw80sbw_overflow : 73440 entries found\n",
      "bf_plsRKBU1101_rub128basin_usterstr: 73440 entries found\n",
      "bf_plsRKBU1102_rub128basin_overflow: 73440 entries found\n",
      "bf_plsRKBA1101_rubbasin_ara_overflow: 73440 entries found\n",
      "bf_plsRKBM1101_3r_rub_morg_overflow: 73440 entries found\n",
      "bf_plsZUL1100_inflow_ara           : 73440 entries found\n",
      "bf_f08_166_luppmenweg              : 117496 entries found\n",
      "bf_f10_22a_bahnhofstr              : 0 entries found\n",
      "bf_f02_555_mesikerstr              : 145068 entries found\n",
      "bf_f03_11e_russikerstr             : 150920 entries found\n"
     ]
    }
   ],
   "source": [
    "NrDataPoints2 = 100\n",
    "\n",
    "# init data frame\n",
    "flow_rate_data = pd.DataFrame()\n",
    "\n",
    "for sensor_name in flow_rate_sensor_names:\n",
    "\n",
    "    # get time series\n",
    "    ts = uwot.GetTimeSeries(source_name=sensor_name, start_date=StartDate, end_date=EndDate) #, limit=NrDataPoints2)\n",
    "    print(f\"{sensor_name:<35}: {ts.shape[0]} entries found\", end=\"\\n\")\n",
    "\n",
    "    # name the column after the sensor and use timestamp as index\n",
    "    ts.rename(columns={'value': sensor_name}, inplace=True)\n",
    "    ts.set_index('timestamp', inplace=True)\n",
    "\n",
    "    # merge to data frame\n",
    "    # Note: timestamp is an index, not a column, so flow_rate_data['timestamp'] will not work. Use flow_rate_data.index or first_valid_index() instead\n",
    "    flow_rate_data = pd.merge(flow_rate_data, ts, how='outer', left_index=True, right_index=True)\n",
    "\n",
    "# print length of data frame\n",
    "print(f\"   data frame length: {flow_rate_data.shape[0]}\", end=\"\\n\")\n",
    "ts.head()"
   ]
  },
  {
   "cell_type": "markdown",
   "id": "1f800eb4",
   "metadata": {},
   "source": [
    "For only 100 samples per sensor and 13 sensors, the df has >6 Mio rows. This can happen because of the (outer) join explosion, when the time stamps used to merge the data frames together are slightly different, because for each unique time stamp, a new row is introduced. Expand the next cell to get a bit more context."
   ]
  },
  {
   "cell_type": "markdown",
   "id": "e109e9cb",
   "metadata": {},
   "source": [
    "<small>The phenomenon you're experiencing is commonly referred to as a \"join explosion\" or specifically in your case, an \"outer join explosion.\" This occurs when a join operation (especially an outer join) between two datasets results in a significantly larger number of rows than in the original datasets. This typically happens due to:\n",
    "\n",
    "1. **Mismatched or Non-Unique Join Keys**: When the keys used for joining are not unique or have slight variations that are still considered distinct (like your time stamps), leading to multiple rows from one dataset being matched with multiple rows from the other dataset.\n",
    "\n",
    "2. **Cartesian Product for Non-Matching Keys**: In the context of an outer join, for each non-matching key in both datasets, new rows are created with `NaN` values to fill in for missing data on one side of the join. This ensures no data is lost but can massively increase the number of rows if there are many such non-matching keys.\n",
    "\n",
    "The term \"explosion\" aptly describes the rapid increase in the number of rows, which can lead to significant performance issues and unexpected results, as you've noticed.\n",
    "\n",
    "**Opinion**: To mitigate join explosion, careful preprocessing of the datasets to ensure that join keys are as aligned as possible can be very helpful. This might include cleaning the data to standardize the time stamps, removing duplicates, or even aggregating data points at a higher time resolution to reduce the granularity and the chances of slight mismatches. Additionally, considering the specific requirements of your analysis, you might opt for different types of joins or a more manual merging process that allows for greater control over how duplicates and near-duplicates are handled.</small>"
   ]
  },
  {
   "cell_type": "markdown",
   "id": "e0c404ad",
   "metadata": {},
   "source": [
    "#### Version 2: drop duplicates"
   ]
  },
  {
   "cell_type": "code",
   "execution_count": null,
   "id": "8a98f29b",
   "metadata": {},
   "outputs": [],
   "source": [
    "NrDataPoints2 = 10000\n",
    "\n",
    "# init data frame\n",
    "flow_rate_data = pd.DataFrame()\n",
    "\n",
    "for sensor_name in flow_rate_sensor_names:\n",
    "\n",
    "    # get time series\n",
    "    ts = uwot.GetTimeSeries(source_name=sensor_name, start_date=StartDate, end_date=EndDate) #, limit=NrDataPoints2)\n",
    "    print(f\"{sensor_name:<36}: {ts.shape[0]} entries found\", end=\"\")\n",
    "\n",
    "    # remove duplicate timestamps\n",
    "    duplicates = ts.duplicated(subset=['timestamp']).sum()\n",
    "    if duplicates > 0:\n",
    "        ts.drop_duplicates(subset=['timestamp'], keep=\"first\", inplace=True) # note that this implies keep='first'\n",
    "    print(f\" / {duplicates} duplicates / {len(ts)} remaining\", end=\"\\n\")\n",
    "\n",
    "    # test alignment: delete first 50 entries \n",
    "    # if True and sensor_name == 'bf_plsRKBU1101_rub128basin_usterstr':\n",
    "    #     ts = ts.iloc[50:]\n",
    "    #     print(f\" / deleted first 100 entries\", end=\"\")\n",
    "\n",
    "    # name the column after the sensor and use timestamp as index\n",
    "    ts.rename(columns={'value': sensor_name}, inplace=True)\n",
    "    ts.set_index('timestamp', inplace=True)\n",
    "\n",
    "    # merge to data frame\n",
    "    # Note: timestamp is an index, not a column, so flow_rate_data['timestamp'] will not work. Use flow_rate_data.index or first_valid_index() instead\n",
    "    flow_rate_data = pd.merge(flow_rate_data, ts, how='outer', left_index=True, right_index=True)\n",
    "\n",
    "# print length of data frame\n",
    "print(f\"   data frame length: {flow_rate_data.shape[0]}\", end=\"\\n\")"
   ]
  },
  {
   "cell_type": "markdown",
   "id": "6bc7c951",
   "metadata": {},
   "source": [
    "Notes:\n",
    "1. Inspecting the output tells us, that there are empty time series (at least for certain time periodes), so don't add empty columns next time.\n",
    "1. To test the merge, the first 50 entries are deleted on purpose and by manual inspection of the resulting data frame, it was confirmed, that the merge works indeed based on time stamp.\n",
    "1. We also see, that some sensors contain many duplicate entries. What do we do with this information?\n",
    "1. It's always wise to print some info about the steps you are taking, i.e. print the number of dropped entries."
   ]
  },
  {
   "cell_type": "markdown",
   "id": "4ed04aea",
   "metadata": {},
   "source": [
    "#### Version 3: With resampling to 2.5 min (and drop duplicates)"
   ]
  },
  {
   "cell_type": "code",
   "execution_count": 6,
   "id": "79ec656d",
   "metadata": {
    "ExecuteTime": {
     "end_time": "2024-03-05T16:09:13.759531Z",
     "start_time": "2024-03-05T16:09:13.728883Z"
    }
   },
   "outputs": [],
   "source": [
    "# resampling rate for the evaluation\n",
    "resampling_rate = \"2.5min\"\n",
    "\n",
    "# interpolation limit: gaps in the time series that are longer than this limit will not be interpolated\n",
    "interpolation_limit = 4 # interpolate will fill up to X consecutive NaN values"
   ]
  },
  {
   "cell_type": "code",
   "execution_count": 11,
   "id": "06105824-68b6-46d2-87f9-451d22167494",
   "metadata": {
    "slideshow": {
     "slide_type": "slide"
    },
    "tags": [],
    "ExecuteTime": {
     "end_time": "2024-03-05T16:12:13.283760Z",
     "start_time": "2024-03-05T16:10:48.018974Z"
    }
   },
   "outputs": [
    {
     "name": "stdout",
     "output_type": "stream",
     "text": [
      "Keeping the first duplicate entry for each time stamp\n",
      "bf_f07_23_bahnhofstr               : 2753370 entries found / 2447440 duplicates / 305930 remaining / freq(stddev)=5.0(40.02801005) min\n",
      "bf_plsRKPI1102_rubpw80sbw_overflow : 1578240 entries found / 0 duplicates / 1578240 remaining / freq(stddev)=1.0(0.0) min\n",
      "bf_plsRKBU1101_rub128basin_usterstr: 1578240 entries found / 0 duplicates / 1578240 remaining / freq(stddev)=1.0(0.0) min\n",
      "bf_plsRKBU1102_rub128basin_overflow: 1578240 entries found / 0 duplicates / 1578240 remaining / freq(stddev)=1.0(0.0) min\n",
      "bf_plsRKBA1101_rubbasin_ara_overflow: 1578240 entries found / 0 duplicates / 1578240 remaining / freq(stddev)=1.0(0.0) min\n",
      "bf_plsRKBM1101_3r_rub_morg_overflow: 1578240 entries found / 0 duplicates / 1578240 remaining / freq(stddev)=1.0(0.0) min\n",
      "bf_plsZUL1100_inflow_ara           : 1578240 entries found / 0 duplicates / 1578240 remaining / freq(stddev)=1.0(0.0) min\n",
      "bf_f08_166_luppmenweg              : 2329296 entries found / 2038134 duplicates / 291162 remaining / freq(stddev)=5.0(151.0377472) min\n",
      "bf_f10_22a_bahnhofstr              : 1177992 entries found / 1030743 duplicates / 147249 remaining / freq(stddev)=5.0(83.48130421666666) min\n",
      "bf_f02_555_mesikerstr              : 3452184 entries found / 3137591 duplicates / 314593 remaining / freq(stddev)=5.0(104.33599076666665) min\n",
      "bf_f03_11e_russikerstr             : 3443869 entries found / 3130790 duplicates / 313079 remaining / freq(stddev)=5.0(11.953000266666667) min\n",
      "bf_f07_23_bahnhofstr               : 2753370 entries found / 2447440 duplicates / 305930 remaining / freq(stddev)=5.0(40.02801005) min\n",
      "bf_f12_47a_zurcherstr              : 2418921 entries found / 2150152 duplicates / 268769 remaining / freq(stddev)=5.0(204.19719873333332) min\n"
     ]
    }
   ],
   "source": [
    "# init data frame\n",
    "flow_rate_data = pd.DataFrame()\n",
    "\n",
    "# print a reminder that we should not forget about the drop duplicate issue!\n",
    "print(\"Keeping the first duplicate entry for each time stamp\")\n",
    "\n",
    "for sensor_name in flow_rate_sensor_names:\n",
    "\n",
    "    # get time series\n",
    "    ts = uwot.GetTimeSeries(source_name=sensor_name, start_date=StartDate, end_date=EndDate, limit=NrDataPoints)\n",
    "    print(f\"{sensor_name:<35}: {ts.shape[0]} entries found\", end=\"\")\n",
    "\n",
    "    # remove duplicate timestamps\n",
    "    duplicates = ts.duplicated(subset=['timestamp']).sum()\n",
    "    if duplicates > 0:\n",
    "        ###### NOTE: Would need to drop all duplicates (keep=False), but for testing, I keep the first occurence (keep='first')\n",
    "        ts.drop_duplicates(subset=['timestamp'], inplace=True, keep='first')\n",
    "    print(f\" / {duplicates} duplicates / {len(ts)} remaining\", end=\"\")\n",
    "\n",
    "    # don't add empty time series\n",
    "    if ts.shape[0] == 0:\n",
    "        print(f\" / empty time series, skipping\")\n",
    "        continue\n",
    "\n",
    "    # name the column after the sensor and use timestamp as index\n",
    "    ts.rename(columns={'value': sensor_name}, inplace=True)\n",
    "    ts.set_index('timestamp', inplace=True)\n",
    "\n",
    "    # resample to specified time interval\n",
    "    original_freq = ts.index.to_series().diff().dropna().median()\n",
    "    std_dev = ts.index.to_series().diff().std()\n",
    "    print(f\" / freq(stddev)={original_freq.total_seconds()/60 if not pd.isna(original_freq) else 'NaT'}({std_dev.total_seconds()/60 if not pd.isna(original_freq) else 'NaT'}) min\") # type: ignore\n",
    "    \n",
    "    # Convert to Timedelta for comparison\n",
    "    desired_freq = pd.to_timedelta(resampling_rate)\n",
    "\n",
    "    if original_freq > desired_freq: # type: ignore\n",
    "        # Upsampling\n",
    "        ts_resampled = ts.resample(resampling_rate).interpolate(method='time', limit=interpolation_limit)\n",
    "    else:\n",
    "        # Downsampling (example using mean for aggregation)\n",
    "        ts_resampled = ts.resample(resampling_rate).mean()\n",
    "\n",
    "    # merge to data frame\n",
    "    # Note: timestamp is an index, not a column, so flow_rate_data['timestamp'] will not work. Use flow_rate_data.index or first_valid_index() instead\n",
    "    flow_rate_data = pd.merge(flow_rate_data, ts_resampled, how='outer', left_index=True, right_index=True)"
   ]
  },
  {
   "cell_type": "code",
   "outputs": [],
   "source": [
    "flow_rate_data.to_feather(path=\"./temp/flow_rate_data\")"
   ],
   "metadata": {
    "collapsed": false,
    "ExecuteTime": {
     "end_time": "2024-03-05T16:13:48.244909Z",
     "start_time": "2024-03-05T16:13:48.141817Z"
    }
   },
   "id": "f53c596d4399402a",
   "execution_count": 14
  },
  {
   "cell_type": "markdown",
   "id": "3e6c7c9f",
   "metadata": {},
   "source": [
    "Notes:\n",
    "1. We skipped adding the empty time series"
   ]
  },
  {
   "cell_type": "markdown",
   "id": "20a69570",
   "metadata": {},
   "source": [
    "### Plot sensor data"
   ]
  },
  {
   "cell_type": "code",
   "execution_count": 1,
   "id": "f45529ed",
   "metadata": {
    "tags": [],
    "ExecuteTime": {
     "end_time": "2024-03-12T18:51:57.778338Z",
     "start_time": "2024-03-12T18:51:57.566689Z"
    }
   },
   "outputs": [
    {
     "ename": "NameError",
     "evalue": "name 'figure' is not defined",
     "output_type": "error",
     "traceback": [
      "\u001B[0;31m---------------------------------------------------------------------------\u001B[0m",
      "\u001B[0;31mNameError\u001B[0m                                 Traceback (most recent call last)",
      "Cell \u001B[0;32mIn[1], line 2\u001B[0m\n\u001B[1;32m      1\u001B[0m \u001B[38;5;66;03m# === create figure Flow Rates\u001B[39;00m\n\u001B[0;32m----> 2\u001B[0m p \u001B[38;5;241m=\u001B[39m \u001B[43mfigure\u001B[49m(title\u001B[38;5;241m=\u001B[39m\u001B[38;5;124m\"\u001B[39m\u001B[38;5;124mFlow Rates\u001B[39m\u001B[38;5;124m\"\u001B[39m, \n\u001B[1;32m      3\u001B[0m            x_axis_type\u001B[38;5;241m=\u001B[39m\u001B[38;5;124m\"\u001B[39m\u001B[38;5;124mdatetime\u001B[39m\u001B[38;5;124m\"\u001B[39m, x_range\u001B[38;5;241m=\u001B[39m(flow_rate_data\u001B[38;5;241m.\u001B[39mfirst_valid_index(), flow_rate_data\u001B[38;5;241m.\u001B[39mlast_valid_index()),\n\u001B[1;32m      4\u001B[0m            y_axis_label\u001B[38;5;241m=\u001B[39m\u001B[38;5;124m'\u001B[39m\u001B[38;5;124mFlow rate [l/s]\u001B[39m\u001B[38;5;124m'\u001B[39m, y_range\u001B[38;5;241m=\u001B[39mflow_rate_range,\n\u001B[1;32m      5\u001B[0m            sizing_mode\u001B[38;5;241m=\u001B[39m\u001B[38;5;124m\"\u001B[39m\u001B[38;5;124mstretch_width\u001B[39m\u001B[38;5;124m\"\u001B[39m, height\u001B[38;5;241m=\u001B[39m\u001B[38;5;241m350\u001B[39m,\n\u001B[1;32m      6\u001B[0m            tools\u001B[38;5;241m=\u001B[39m\u001B[38;5;124m\"\u001B[39m\u001B[38;5;124mpan,wheel_zoom,box_zoom,reset,zoom_in,zoom_out,yzoom_in,yzoom_out\u001B[39m\u001B[38;5;124m\"\u001B[39m) \n\u001B[1;32m      8\u001B[0m \u001B[38;5;66;03m# format the x-axis tick labels as datetime strings\u001B[39;00m\n\u001B[1;32m      9\u001B[0m p\u001B[38;5;241m.\u001B[39mxaxis\u001B[38;5;241m.\u001B[39mformatter \u001B[38;5;241m=\u001B[39m DatetimeTickFormatter(hours\u001B[38;5;241m=\u001B[39m\u001B[38;5;124m\"\u001B[39m\u001B[38;5;124m%\u001B[39m\u001B[38;5;124my\u001B[39m\u001B[38;5;124m%\u001B[39m\u001B[38;5;124mm\u001B[39m\u001B[38;5;132;01m%d\u001B[39;00m\u001B[38;5;124m \u001B[39m\u001B[38;5;124m%\u001B[39m\u001B[38;5;124mH\u001B[39m\u001B[38;5;124m\"\u001B[39m, days\u001B[38;5;241m=\u001B[39m\u001B[38;5;124m\"\u001B[39m\u001B[38;5;124m%\u001B[39m\u001B[38;5;124mY \u001B[39m\u001B[38;5;124m%\u001B[39m\u001B[38;5;124mm \u001B[39m\u001B[38;5;132;01m%d\u001B[39;00m\u001B[38;5;124m\"\u001B[39m, months\u001B[38;5;241m=\u001B[39m\u001B[38;5;124m\"\u001B[39m\u001B[38;5;124m%\u001B[39m\u001B[38;5;124mY \u001B[39m\u001B[38;5;124m%\u001B[39m\u001B[38;5;124mm\u001B[39m\u001B[38;5;124m\"\u001B[39m, years\u001B[38;5;241m=\u001B[39m\u001B[38;5;124m\"\u001B[39m\u001B[38;5;124m%\u001B[39m\u001B[38;5;124mY\u001B[39m\u001B[38;5;124m\"\u001B[39m)\n",
      "\u001B[0;31mNameError\u001B[0m: name 'figure' is not defined"
     ]
    }
   ],
   "source": [
    "# === create figure Flow Rates\n",
    "p = figure(title=\"Flow Rates\", \n",
    "           x_axis_type=\"datetime\", x_range=(flow_rate_data.first_valid_index(), flow_rate_data.last_valid_index()),\n",
    "           y_axis_label='Flow rate [l/s]', y_range=flow_rate_range,\n",
    "           sizing_mode=\"stretch_width\", height=350,\n",
    "           tools=\"pan,wheel_zoom,box_zoom,reset,zoom_in,zoom_out,yzoom_in,yzoom_out\") \n",
    "\n",
    "# format the x-axis tick labels as datetime strings\n",
    "p.xaxis.formatter = DatetimeTickFormatter(hours=\"%y%m%d %H\", days=\"%Y %m %d\", months=\"%Y %m\", years=\"%Y\")\n",
    "\n",
    "\n",
    "# === create figure for range tool\n",
    "p_range = figure(title=\"Drag the middle and edges of the selection box to change the range above\",\n",
    "                x_axis_type=\"datetime\", x_range=(flow_rate_data.first_valid_index(), flow_rate_data.last_valid_index()),#p.x_range,\n",
    "                y_axis_type=None, y_range=flow_rate_range,\n",
    "                sizing_mode=\"stretch_width\", height=150,\n",
    "                tools=\"\")\n",
    "p_range.xaxis.formatter = p.xaxis.formatter;\n",
    "\n",
    "range_tool = RangeTool(x_range=p.x_range)\n",
    "range_tool.overlay.fill_color = \"navy\"\n",
    "range_tool.overlay.fill_alpha = 0.2\n",
    "\n",
    "p_range.ygrid.grid_line_color = None\n",
    "p_range.add_tools(range_tool)\n",
    "\n",
    "\n",
    "# === hover tool\n",
    "hover = HoverTool()\n",
    "hover.tooltips = [(\"Sensore name\", \"$name\")]\n",
    "p.add_tools(hover)\n",
    "\n",
    "\n",
    "# Plot all sensor readings\n",
    "colors = Category20[len(Category20)]\n",
    "source = ColumnDataSource(data=flow_rate_data.reset_index())\n",
    "for i, col in enumerate(flow_rate_data.columns):\n",
    "    p.line(x='timestamp', y=col, source=source,\n",
    "           line_color=colors[i % len(colors)], line_width=1,\n",
    "           name=col, legend_label=col)\n",
    "\n",
    "    p_range.line(x='timestamp', y=col, source=source,\n",
    "           line_color=colors[i % len(colors)], line_width=1,\n",
    "           name=col)\n",
    "\n",
    "# set legend attributes\n",
    "p.legend.orientation = \"vertical\"\n",
    "p.legend.location = \"top_left\"\n",
    "p.legend.click_policy=\"hide\"\n",
    "p.legend.label_text_font_size = \"8pt\"\n",
    "\n",
    "# move the legend outside the plot area\n",
    "p.add_layout(p.legend[0], 'left')\n",
    "\n",
    "# show the results\n",
    "l = column(p, p_range) # type: ignore\n",
    "l.sizing_mode = \"stretch_width\" # type: ignore\n",
    "show(l)"
   ]
  },
  {
   "cell_type": "markdown",
   "id": "0938eceb",
   "metadata": {},
   "source": [
    "Notes:\n",
    "- Look at the overflow sensors. How do we treat them?"
   ]
  }
 ],
 "metadata": {
  "kernelspec": {
   "display_name": "Python 3 (ipykernel)",
   "language": "python",
   "name": "python3"
  },
  "language_info": {
   "codemirror_mode": {
    "name": "ipython",
    "version": 3
   },
   "file_extension": ".py",
   "mimetype": "text/x-python",
   "name": "python",
   "nbconvert_exporter": "python",
   "pygments_lexer": "ipython3",
   "version": "3.12.1"
  }
 },
 "nbformat": 4,
 "nbformat_minor": 5
}
