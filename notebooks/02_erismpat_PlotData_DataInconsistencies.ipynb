{
 "cells": [
  {
   "cell_type": "code",
   "execution_count": 3,
   "id": "initial_id",
   "metadata": {
    "collapsed": true,
    "ExecuteTime": {
     "end_time": "2024-03-12T09:08:04.485685Z",
     "start_time": "2024-03-12T09:08:04.471203Z"
    }
   },
   "outputs": [
    {
     "data": {
      "text/html": "    <style>\n        .bk-notebook-logo {\n            display: block;\n            width: 20px;\n            height: 20px;\n            background-image: url(data:image/png;base64,iVBORw0KGgoAAAANSUhEUgAAABQAAAAUCAYAAACNiR0NAAAABHNCSVQICAgIfAhkiAAAAAlwSFlzAAALEgAACxIB0t1+/AAAABx0RVh0U29mdHdhcmUAQWRvYmUgRmlyZXdvcmtzIENTNui8sowAAAOkSURBVDiNjZRtaJVlGMd/1/08zzln5zjP1LWcU9N0NkN8m2CYjpgQYQXqSs0I84OLIC0hkEKoPtiH3gmKoiJDU7QpLgoLjLIQCpEsNJ1vqUOdO7ppbuec5+V+rj4ctwzd8IIbbi6u+8f1539dt3A78eXC7QizUF7gyV1fD1Yqg4JWz84yffhm0qkFqBogB9rM8tZdtwVsPUhWhGcFJngGeWrPzHm5oaMmkfEg1usvLFyc8jLRqDOMru7AyC8saQr7GG7f5fvDeH7Ej8CM66nIF+8yngt6HWaKh7k49Soy9nXurCi1o3qUbS3zWfrYeQDTB/Qj6kX6Ybhw4B+bOYoLKCC9H3Nu/leUTZ1JdRWkkn2ldcCamzrcf47KKXdAJllSlxAOkRgyHsGC/zRday5Qld9DyoM4/q/rUoy/CXh3jzOu3bHUVZeU+DEn8FInkPBFlu3+nW3Nw0mk6vCDiWg8CeJaxEwuHS3+z5RgY+YBR6V1Z1nxSOfoaPa4LASWxxdNp+VWTk7+4vzaou8v8PN+xo+KY2xsw6une2frhw05CTYOmQvsEhjhWjn0bmXPjpE1+kplmmkP3suftwTubK9Vq22qKmrBhpY4jvd5afdRA3wGjFAgcnTK2s4hY0/GPNIb0nErGMCRxWOOX64Z8RAC4oCXdklmEvcL8o0BfkNK4lUg9HTl+oPlQxdNo3Mg4Nv175e/1LDGzZen30MEjRUtmXSfiTVu1kK8W4txyV6BMKlbgk3lMwYCiusNy9fVfvvwMxv8Ynl6vxoByANLTWplvuj/nF9m2+PDtt1eiHPBr1oIfhCChQMBw6Aw0UulqTKZdfVvfG7VcfIqLG9bcldL/+pdWTLxLUy8Qq38heUIjh4XlzZxzQm19lLFlr8vdQ97rjZVOLf8nclzckbcD4wxXMidpX30sFd37Fv/GtwwhzhxGVAprjbg0gCAEeIgwCZyTV2Z1REEW8O4py0wsjeloKoMr6iCY6dP92H6Vw/oTyICIthibxjm/DfN9lVz8IqtqKYLUXfoKVMVQVVJOElGjrnnUt9T9wbgp8AyYKaGlqingHZU/uG2NTZSVqwHQTWkx9hxjkpWDaCg6Ckj5qebgBVbT3V3NNXMSiWSDdGV3hrtzla7J+duwPOToIg42ChPQOQjspnSlp1V+Gjdged7+8UN5CRAV7a5EdFNwCjEaBR27b3W890TE7g24NAP/mMDXRWrGoFPQI9ls/MWO2dWFAar/xcOIImbbpA3zgAAAABJRU5ErkJggg==);\n        }\n    </style>\n    <div>\n        <a href=\"https://bokeh.org\" target=\"_blank\" class=\"bk-notebook-logo\"></a>\n        <span id=\"cc877dd6-32b5-4ad5-ac1d-1c90cb0b8396\">Loading BokehJS ...</span>\n    </div>\n"
     },
     "metadata": {},
     "output_type": "display_data"
    },
    {
     "data": {
      "application/javascript": "(function(root) {\n  function now() {\n    return new Date();\n  }\n\n  const force = true;\n\n  if (typeof root._bokeh_onload_callbacks === \"undefined\" || force === true) {\n    root._bokeh_onload_callbacks = [];\n    root._bokeh_is_loading = undefined;\n  }\n\nconst JS_MIME_TYPE = 'application/javascript';\n  const HTML_MIME_TYPE = 'text/html';\n  const EXEC_MIME_TYPE = 'application/vnd.bokehjs_exec.v0+json';\n  const CLASS_NAME = 'output_bokeh rendered_html';\n\n  /**\n   * Render data to the DOM node\n   */\n  function render(props, node) {\n    const script = document.createElement(\"script\");\n    node.appendChild(script);\n  }\n\n  /**\n   * Handle when an output is cleared or removed\n   */\n  function handleClearOutput(event, handle) {\n    function drop(id) {\n      const view = Bokeh.index.get_by_id(id)\n      if (view != null) {\n        view.model.document.clear()\n        Bokeh.index.delete(view)\n      }\n    }\n\n    const cell = handle.cell;\n\n    const id = cell.output_area._bokeh_element_id;\n    const server_id = cell.output_area._bokeh_server_id;\n\n    // Clean up Bokeh references\n    if (id != null) {\n      drop(id)\n    }\n\n    if (server_id !== undefined) {\n      // Clean up Bokeh references\n      const cmd_clean = \"from bokeh.io.state import curstate; print(curstate().uuid_to_server['\" + server_id + \"'].get_sessions()[0].document.roots[0]._id)\";\n      cell.notebook.kernel.execute(cmd_clean, {\n        iopub: {\n          output: function(msg) {\n            const id = msg.content.text.trim()\n            drop(id)\n          }\n        }\n      });\n      // Destroy server and session\n      const cmd_destroy = \"import bokeh.io.notebook as ion; ion.destroy_server('\" + server_id + \"')\";\n      cell.notebook.kernel.execute(cmd_destroy);\n    }\n  }\n\n  /**\n   * Handle when a new output is added\n   */\n  function handleAddOutput(event, handle) {\n    const output_area = handle.output_area;\n    const output = handle.output;\n\n    // limit handleAddOutput to display_data with EXEC_MIME_TYPE content only\n    if ((output.output_type != \"display_data\") || (!Object.prototype.hasOwnProperty.call(output.data, EXEC_MIME_TYPE))) {\n      return\n    }\n\n    const toinsert = output_area.element.find(\".\" + CLASS_NAME.split(' ')[0]);\n\n    if (output.metadata[EXEC_MIME_TYPE][\"id\"] !== undefined) {\n      toinsert[toinsert.length - 1].firstChild.textContent = output.data[JS_MIME_TYPE];\n      // store reference to embed id on output_area\n      output_area._bokeh_element_id = output.metadata[EXEC_MIME_TYPE][\"id\"];\n    }\n    if (output.metadata[EXEC_MIME_TYPE][\"server_id\"] !== undefined) {\n      const bk_div = document.createElement(\"div\");\n      bk_div.innerHTML = output.data[HTML_MIME_TYPE];\n      const script_attrs = bk_div.children[0].attributes;\n      for (let i = 0; i < script_attrs.length; i++) {\n        toinsert[toinsert.length - 1].firstChild.setAttribute(script_attrs[i].name, script_attrs[i].value);\n        toinsert[toinsert.length - 1].firstChild.textContent = bk_div.children[0].textContent\n      }\n      // store reference to server id on output_area\n      output_area._bokeh_server_id = output.metadata[EXEC_MIME_TYPE][\"server_id\"];\n    }\n  }\n\n  function register_renderer(events, OutputArea) {\n\n    function append_mime(data, metadata, element) {\n      // create a DOM node to render to\n      const toinsert = this.create_output_subarea(\n        metadata,\n        CLASS_NAME,\n        EXEC_MIME_TYPE\n      );\n      this.keyboard_manager.register_events(toinsert);\n      // Render to node\n      const props = {data: data, metadata: metadata[EXEC_MIME_TYPE]};\n      render(props, toinsert[toinsert.length - 1]);\n      element.append(toinsert);\n      return toinsert\n    }\n\n    /* Handle when an output is cleared or removed */\n    events.on('clear_output.CodeCell', handleClearOutput);\n    events.on('delete.Cell', handleClearOutput);\n\n    /* Handle when a new output is added */\n    events.on('output_added.OutputArea', handleAddOutput);\n\n    /**\n     * Register the mime type and append_mime function with output_area\n     */\n    OutputArea.prototype.register_mime_type(EXEC_MIME_TYPE, append_mime, {\n      /* Is output safe? */\n      safe: true,\n      /* Index of renderer in `output_area.display_order` */\n      index: 0\n    });\n  }\n\n  // register the mime type if in Jupyter Notebook environment and previously unregistered\n  if (root.Jupyter !== undefined) {\n    const events = require('base/js/events');\n    const OutputArea = require('notebook/js/outputarea').OutputArea;\n\n    if (OutputArea.prototype.mime_types().indexOf(EXEC_MIME_TYPE) == -1) {\n      register_renderer(events, OutputArea);\n    }\n  }\n  if (typeof (root._bokeh_timeout) === \"undefined\" || force === true) {\n    root._bokeh_timeout = Date.now() + 5000;\n    root._bokeh_failed_load = false;\n  }\n\n  const NB_LOAD_WARNING = {'data': {'text/html':\n     \"<div style='background-color: #fdd'>\\n\"+\n     \"<p>\\n\"+\n     \"BokehJS does not appear to have successfully loaded. If loading BokehJS from CDN, this \\n\"+\n     \"may be due to a slow or bad network connection. Possible fixes:\\n\"+\n     \"</p>\\n\"+\n     \"<ul>\\n\"+\n     \"<li>re-rerun `output_notebook()` to attempt to load from CDN again, or</li>\\n\"+\n     \"<li>use INLINE resources instead, as so:</li>\\n\"+\n     \"</ul>\\n\"+\n     \"<code>\\n\"+\n     \"from bokeh.resources import INLINE\\n\"+\n     \"output_notebook(resources=INLINE)\\n\"+\n     \"</code>\\n\"+\n     \"</div>\"}};\n\n  function display_loaded() {\n    const el = document.getElementById(\"cc877dd6-32b5-4ad5-ac1d-1c90cb0b8396\");\n    if (el != null) {\n      el.textContent = \"BokehJS is loading...\";\n    }\n    if (root.Bokeh !== undefined) {\n      if (el != null) {\n        el.textContent = \"BokehJS \" + root.Bokeh.version + \" successfully loaded.\";\n      }\n    } else if (Date.now() < root._bokeh_timeout) {\n      setTimeout(display_loaded, 100)\n    }\n  }\n\n  function run_callbacks() {\n    try {\n      root._bokeh_onload_callbacks.forEach(function(callback) {\n        if (callback != null)\n          callback();\n      });\n    } finally {\n      delete root._bokeh_onload_callbacks\n    }\n    console.debug(\"Bokeh: all callbacks have finished\");\n  }\n\n  function load_libs(css_urls, js_urls, callback) {\n    if (css_urls == null) css_urls = [];\n    if (js_urls == null) js_urls = [];\n\n    root._bokeh_onload_callbacks.push(callback);\n    if (root._bokeh_is_loading > 0) {\n      console.debug(\"Bokeh: BokehJS is being loaded, scheduling callback at\", now());\n      return null;\n    }\n    if (js_urls == null || js_urls.length === 0) {\n      run_callbacks();\n      return null;\n    }\n    console.debug(\"Bokeh: BokehJS not loaded, scheduling load and callback at\", now());\n    root._bokeh_is_loading = css_urls.length + js_urls.length;\n\n    function on_load() {\n      root._bokeh_is_loading--;\n      if (root._bokeh_is_loading === 0) {\n        console.debug(\"Bokeh: all BokehJS libraries/stylesheets loaded\");\n        run_callbacks()\n      }\n    }\n\n    function on_error(url) {\n      console.error(\"failed to load \" + url);\n    }\n\n    for (let i = 0; i < css_urls.length; i++) {\n      const url = css_urls[i];\n      const element = document.createElement(\"link\");\n      element.onload = on_load;\n      element.onerror = on_error.bind(null, url);\n      element.rel = \"stylesheet\";\n      element.type = \"text/css\";\n      element.href = url;\n      console.debug(\"Bokeh: injecting link tag for BokehJS stylesheet: \", url);\n      document.body.appendChild(element);\n    }\n\n    for (let i = 0; i < js_urls.length; i++) {\n      const url = js_urls[i];\n      const element = document.createElement('script');\n      element.onload = on_load;\n      element.onerror = on_error.bind(null, url);\n      element.async = false;\n      element.src = url;\n      console.debug(\"Bokeh: injecting script tag for BokehJS library: \", url);\n      document.head.appendChild(element);\n    }\n  };\n\n  function inject_raw_css(css) {\n    const element = document.createElement(\"style\");\n    element.appendChild(document.createTextNode(css));\n    document.body.appendChild(element);\n  }\n\n  const js_urls = [\"https://cdn.bokeh.org/bokeh/release/bokeh-3.3.4.min.js\", \"https://cdn.bokeh.org/bokeh/release/bokeh-gl-3.3.4.min.js\", \"https://cdn.bokeh.org/bokeh/release/bokeh-widgets-3.3.4.min.js\", \"https://cdn.bokeh.org/bokeh/release/bokeh-tables-3.3.4.min.js\", \"https://cdn.bokeh.org/bokeh/release/bokeh-mathjax-3.3.4.min.js\"];\n  const css_urls = [];\n\n  const inline_js = [    function(Bokeh) {\n      Bokeh.set_log_level(\"info\");\n    },\nfunction(Bokeh) {\n    }\n  ];\n\n  function run_inline_js() {\n    if (root.Bokeh !== undefined || force === true) {\n          for (let i = 0; i < inline_js.length; i++) {\n      inline_js[i].call(root, root.Bokeh);\n    }\nif (force === true) {\n        display_loaded();\n      }} else if (Date.now() < root._bokeh_timeout) {\n      setTimeout(run_inline_js, 100);\n    } else if (!root._bokeh_failed_load) {\n      console.log(\"Bokeh: BokehJS failed to load within specified timeout.\");\n      root._bokeh_failed_load = true;\n    } else if (force !== true) {\n      const cell = $(document.getElementById(\"cc877dd6-32b5-4ad5-ac1d-1c90cb0b8396\")).parents('.cell').data().cell;\n      cell.output_area.append_execute_result(NB_LOAD_WARNING)\n    }\n  }\n\n  if (root._bokeh_is_loading === 0) {\n    console.debug(\"Bokeh: BokehJS loaded, going straight to plotting\");\n    run_inline_js();\n  } else {\n    load_libs(css_urls, js_urls, function() {\n      console.debug(\"Bokeh: BokehJS plotting callback run at\", now());\n      run_inline_js();\n    });\n  }\n}(window));",
      "application/vnd.bokehjs_load.v0+json": "(function(root) {\n  function now() {\n    return new Date();\n  }\n\n  const force = true;\n\n  if (typeof root._bokeh_onload_callbacks === \"undefined\" || force === true) {\n    root._bokeh_onload_callbacks = [];\n    root._bokeh_is_loading = undefined;\n  }\n\n\n  if (typeof (root._bokeh_timeout) === \"undefined\" || force === true) {\n    root._bokeh_timeout = Date.now() + 5000;\n    root._bokeh_failed_load = false;\n  }\n\n  const NB_LOAD_WARNING = {'data': {'text/html':\n     \"<div style='background-color: #fdd'>\\n\"+\n     \"<p>\\n\"+\n     \"BokehJS does not appear to have successfully loaded. If loading BokehJS from CDN, this \\n\"+\n     \"may be due to a slow or bad network connection. Possible fixes:\\n\"+\n     \"</p>\\n\"+\n     \"<ul>\\n\"+\n     \"<li>re-rerun `output_notebook()` to attempt to load from CDN again, or</li>\\n\"+\n     \"<li>use INLINE resources instead, as so:</li>\\n\"+\n     \"</ul>\\n\"+\n     \"<code>\\n\"+\n     \"from bokeh.resources import INLINE\\n\"+\n     \"output_notebook(resources=INLINE)\\n\"+\n     \"</code>\\n\"+\n     \"</div>\"}};\n\n  function display_loaded() {\n    const el = document.getElementById(\"cc877dd6-32b5-4ad5-ac1d-1c90cb0b8396\");\n    if (el != null) {\n      el.textContent = \"BokehJS is loading...\";\n    }\n    if (root.Bokeh !== undefined) {\n      if (el != null) {\n        el.textContent = \"BokehJS \" + root.Bokeh.version + \" successfully loaded.\";\n      }\n    } else if (Date.now() < root._bokeh_timeout) {\n      setTimeout(display_loaded, 100)\n    }\n  }\n\n  function run_callbacks() {\n    try {\n      root._bokeh_onload_callbacks.forEach(function(callback) {\n        if (callback != null)\n          callback();\n      });\n    } finally {\n      delete root._bokeh_onload_callbacks\n    }\n    console.debug(\"Bokeh: all callbacks have finished\");\n  }\n\n  function load_libs(css_urls, js_urls, callback) {\n    if (css_urls == null) css_urls = [];\n    if (js_urls == null) js_urls = [];\n\n    root._bokeh_onload_callbacks.push(callback);\n    if (root._bokeh_is_loading > 0) {\n      console.debug(\"Bokeh: BokehJS is being loaded, scheduling callback at\", now());\n      return null;\n    }\n    if (js_urls == null || js_urls.length === 0) {\n      run_callbacks();\n      return null;\n    }\n    console.debug(\"Bokeh: BokehJS not loaded, scheduling load and callback at\", now());\n    root._bokeh_is_loading = css_urls.length + js_urls.length;\n\n    function on_load() {\n      root._bokeh_is_loading--;\n      if (root._bokeh_is_loading === 0) {\n        console.debug(\"Bokeh: all BokehJS libraries/stylesheets loaded\");\n        run_callbacks()\n      }\n    }\n\n    function on_error(url) {\n      console.error(\"failed to load \" + url);\n    }\n\n    for (let i = 0; i < css_urls.length; i++) {\n      const url = css_urls[i];\n      const element = document.createElement(\"link\");\n      element.onload = on_load;\n      element.onerror = on_error.bind(null, url);\n      element.rel = \"stylesheet\";\n      element.type = \"text/css\";\n      element.href = url;\n      console.debug(\"Bokeh: injecting link tag for BokehJS stylesheet: \", url);\n      document.body.appendChild(element);\n    }\n\n    for (let i = 0; i < js_urls.length; i++) {\n      const url = js_urls[i];\n      const element = document.createElement('script');\n      element.onload = on_load;\n      element.onerror = on_error.bind(null, url);\n      element.async = false;\n      element.src = url;\n      console.debug(\"Bokeh: injecting script tag for BokehJS library: \", url);\n      document.head.appendChild(element);\n    }\n  };\n\n  function inject_raw_css(css) {\n    const element = document.createElement(\"style\");\n    element.appendChild(document.createTextNode(css));\n    document.body.appendChild(element);\n  }\n\n  const js_urls = [\"https://cdn.bokeh.org/bokeh/release/bokeh-3.3.4.min.js\", \"https://cdn.bokeh.org/bokeh/release/bokeh-gl-3.3.4.min.js\", \"https://cdn.bokeh.org/bokeh/release/bokeh-widgets-3.3.4.min.js\", \"https://cdn.bokeh.org/bokeh/release/bokeh-tables-3.3.4.min.js\", \"https://cdn.bokeh.org/bokeh/release/bokeh-mathjax-3.3.4.min.js\"];\n  const css_urls = [];\n\n  const inline_js = [    function(Bokeh) {\n      Bokeh.set_log_level(\"info\");\n    },\nfunction(Bokeh) {\n    }\n  ];\n\n  function run_inline_js() {\n    if (root.Bokeh !== undefined || force === true) {\n          for (let i = 0; i < inline_js.length; i++) {\n      inline_js[i].call(root, root.Bokeh);\n    }\nif (force === true) {\n        display_loaded();\n      }} else if (Date.now() < root._bokeh_timeout) {\n      setTimeout(run_inline_js, 100);\n    } else if (!root._bokeh_failed_load) {\n      console.log(\"Bokeh: BokehJS failed to load within specified timeout.\");\n      root._bokeh_failed_load = true;\n    } else if (force !== true) {\n      const cell = $(document.getElementById(\"cc877dd6-32b5-4ad5-ac1d-1c90cb0b8396\")).parents('.cell').data().cell;\n      cell.output_area.append_execute_result(NB_LOAD_WARNING)\n    }\n  }\n\n  if (root._bokeh_is_loading === 0) {\n    console.debug(\"Bokeh: BokehJS loaded, going straight to plotting\");\n    run_inline_js();\n  } else {\n    load_libs(css_urls, js_urls, function() {\n      console.debug(\"Bokeh: BokehJS plotting callback run at\", now());\n      run_inline_js();\n    });\n  }\n}(window));"
     },
     "metadata": {},
     "output_type": "display_data"
    },
    {
     "name": "stdout",
     "output_type": "stream",
     "text": [
      "The autoreload extension is already loaded. To reload it, use:\n",
      "  %reload_ext autoreload\n"
     ]
    }
   ],
   "source": [
    "from src.data.UWOtools import *\n",
    "\n",
    "from bokeh.layouts import column\n",
    "from bokeh.plotting import figure, output_notebook\n",
    "from bokeh.models import ColumnDataSource, HoverTool, Legend, LegendItem\n",
    "from bokeh.palettes import Category20\n",
    "from bokeh.io import output_file, show\n",
    "\n",
    "output_notebook() # enables bokeh in Jupyter Notebook\n",
    "%load_ext autoreload"
   ]
  },
  {
   "cell_type": "code",
   "outputs": [
    {
     "name": "stdout",
     "output_type": "stream",
     "text": [
      "                    name  site_id\n",
      "0          23_bahnhofstr       34\n",
      "1    rubpw80sbw_industry       32\n",
      "2   rub128basin_usterstr       19\n",
      "3           rubbasin_ara       21\n",
      "4   3r_rub_morg_overflow       74\n",
      "5             inflow_ara       15\n",
      "6         166_luppmenweg       40\n",
      "7         22a_bahnhofstr       41\n",
      "8         555_mesikerstr       42\n",
      "9        11e_russikerstr        2\n",
      "10        47a_zurcherstr       57\n"
     ]
    }
   ],
   "source": [
    "sites = GetSitesWithVariable(\"flow_rate\") # All measurement sites which measure the flowrate\n",
    "locations = list(sites[\"name\"])\n",
    "print(sites)"
   ],
   "metadata": {
    "collapsed": false,
    "ExecuteTime": {
     "end_time": "2024-03-12T09:08:21.136656Z",
     "start_time": "2024-03-12T09:08:04.487012Z"
    }
   },
   "id": "8109eb36bacdd775",
   "execution_count": 4
  },
  {
   "cell_type": "code",
   "outputs": [
    {
     "name": "stdout",
     "output_type": "stream",
     "text": [
      "Starting\n"
     ]
    }
   ],
   "source": [
    "df = GetFlowRateTimeSeries() # Use the specific designed query, to get all flow_rates "
   ],
   "metadata": {
    "collapsed": false,
    "ExecuteTime": {
     "end_time": "2024-03-12T09:08:59.979600Z",
     "start_time": "2024-03-12T09:08:21.138730Z"
    }
   },
   "id": "dd9112e54f4af656",
   "execution_count": 5
  },
  {
   "cell_type": "code",
   "outputs": [],
   "source": [
    "df['timestamp'] = pd.to_datetime(df['timestamp']) # \n",
    "df = df.pivot_table(index='timestamp', columns='source_name', values='value') # Arrange df to our needs"
   ],
   "metadata": {
    "collapsed": false,
    "ExecuteTime": {
     "end_time": "2024-03-12T09:09:10.473077Z",
     "start_time": "2024-03-12T09:08:59.982803Z"
    }
   },
   "id": "add30372904c8907",
   "execution_count": 6
  },
  {
   "cell_type": "code",
   "outputs": [
    {
     "data": {
      "text/plain": "source_name\nbf_f02_555_mesikerstr                   1264733\nbf_f03_11e_russikerstr                  1266247\nbf_f07_23_bahnhofstr                    1273396\nbf_f08_166_luppmenweg                   1288164\nbf_f10_22a_bahnhofstr                   1432077\nbf_f12_47a_zurcherstr                   1310557\nbf_plsRKBA1101_rubbasin_ara_overflow       1086\nbf_plsRKBM1101_3r_rub_morg_overflow        1086\nbf_plsRKBU1101_rub128basin_usterstr        1086\nbf_plsRKBU1102_rub128basin_overflow        1086\nbf_plsRKPI1102_rubpw80sbw_overflow         1086\nbf_plsZUL1100_inflow_ara                   1086\ndtype: int64"
     },
     "execution_count": 7,
     "metadata": {},
     "output_type": "execute_result"
    }
   ],
   "source": [
    "df.head(20) # Eyeball data to see if it is what we want\n",
    "df.isna().sum()"
   ],
   "metadata": {
    "collapsed": false,
    "ExecuteTime": {
     "end_time": "2024-03-12T09:09:10.502437Z",
     "start_time": "2024-03-12T09:09:10.474244Z"
    }
   },
   "id": "5784a08c8de86307",
   "execution_count": 7
  },
  {
   "cell_type": "markdown",
   "source": [
    "Let's have a look at the sampling rate of the different sensors:"
   ],
   "metadata": {
    "collapsed": false
   },
   "id": "67a68421a572ef33"
  },
  {
   "cell_type": "code",
   "outputs": [
    {
     "name": "stdout",
     "output_type": "stream",
     "text": [
      "bf_f02_555_mesikerstr: 0 days 00:05:00\n",
      "bf_f03_11e_russikerstr: 0 days 00:05:00\n",
      "bf_f07_23_bahnhofstr: 0 days 00:05:00\n",
      "bf_f08_166_luppmenweg: 0 days 00:05:00\n",
      "bf_f10_22a_bahnhofstr: 0 days 00:05:00\n",
      "bf_f12_47a_zurcherstr: 0 days 00:05:00\n",
      "bf_plsRKBA1101_rubbasin_ara_overflow: 0 days 00:01:00\n",
      "bf_plsRKBM1101_3r_rub_morg_overflow: 0 days 00:01:00\n",
      "bf_plsRKBU1101_rub128basin_usterstr: 0 days 00:01:00\n",
      "bf_plsRKBU1102_rub128basin_overflow: 0 days 00:01:00\n",
      "bf_plsRKPI1102_rubpw80sbw_overflow: 0 days 00:01:00\n",
      "bf_plsZUL1100_inflow_ara: 0 days 00:01:00\n"
     ]
    }
   ],
   "source": [
    "def get_sampling_rate(column):\n",
    "    # Drop NaN values to focus only on timestamps where data present\n",
    "    timestamps = df[column].dropna().index\n",
    "    # Calculate differences between consecutive timestamps\n",
    "    differences = timestamps.diff().dropna()\n",
    "    #Find the most common difference\n",
    "    most_common_interval = differences.value_counts().idxmax()\n",
    "    \n",
    "    return most_common_interval\n",
    "\n",
    "# Check sampling rate for each column\n",
    "sampling_rates = {}\n",
    "for column in df.columns:\n",
    "    sampling_rate = get_sampling_rate(column)\n",
    "    sampling_rates[column] = sampling_rate\n",
    "\n",
    "# Display the sampling rates\n",
    "for column, rate in sampling_rates.items():\n",
    "    print(f\"{column}: {rate}\")"
   ],
   "metadata": {
    "collapsed": false,
    "ExecuteTime": {
     "end_time": "2024-03-12T09:09:10.786501Z",
     "start_time": "2024-03-12T09:09:10.503826Z"
    }
   },
   "id": "d81759e58d970c4b",
   "execution_count": 8
  },
  {
   "cell_type": "markdown",
   "source": [
    "# Resample the ts to an average sampling time of 2.5min let's use interpolate(\"linear\") for upsampling and .mean() for downsampling"
   ],
   "metadata": {
    "collapsed": false
   },
   "id": "bd5f8949ce941497"
  },
  {
   "cell_type": "code",
   "outputs": [],
   "source": [
    "# Columns to upsample\n",
    "upsample_cols = ['bf_f02_555_mesikerstr', 'bf_f03_11e_russikerstr', 'bf_f07_23_bahnhofstr','bf_f08_166_luppmenweg','bf_f10_22a_bahnhofstr','bf_f12_47a_zurcherstr']\n",
    "\n",
    "# Columns to downsample - Replace these with your actual column names\n",
    "downsample_cols = ['bf_plsRKBA1101_rubbasin_ara_overflow', 'bf_plsRKBM1101_3r_rub_morg_overflow','bf_plsRKBU1101_rub128basin_usterstr', 'bf_plsRKBU1102_rub128basin_overflow','bf_plsRKPI1102_rubpw80sbw_overflow','bf_plsZUL1100_inflow_ara' ]\n",
    "\n",
    "# Upsample and interpolate\n",
    "df_upsampled = df[upsample_cols].resample('2.5min').interpolate(method='linear', limit= 20) # limit defines how many consecutive NAN's to fill 20 represent 4 measurement cycles which is about ~20min\n",
    "\n",
    "# Downsample and take the mean\n",
    "df_downsampled = df[downsample_cols].resample('2.5min').mean()\n",
    "\n",
    "# Combine the results\n",
    "df_resampled = pd.concat([df_upsampled, df_downsampled], axis=1)"
   ],
   "metadata": {
    "collapsed": false,
    "ExecuteTime": {
     "end_time": "2024-03-12T09:09:11.609860Z",
     "start_time": "2024-03-12T09:09:10.788912Z"
    }
   },
   "id": "329d6f4efbef1551",
   "execution_count": 9
  },
  {
   "cell_type": "code",
   "outputs": [
    {
     "data": {
      "text/plain": "source_name          bf_f02_555_mesikerstr  bf_f03_11e_russikerstr  \\\ntimestamp                                                            \n2019-01-01 00:00:00               4.813899               15.042012   \n2019-01-01 00:02:30               4.647061               14.994626   \n2019-01-01 00:05:00               4.480223               14.947239   \n2019-01-01 00:07:30               4.591586               14.620884   \n2019-01-01 00:10:00               4.702949               14.294528   \n...                                    ...                     ...   \n2021-12-31 23:47:30               9.723166                     NaN   \n2021-12-31 23:50:00               9.936902                     NaN   \n2021-12-31 23:52:30              10.034887                     NaN   \n2021-12-31 23:55:00              10.132872                     NaN   \n2021-12-31 23:57:30              10.132872                     NaN   \n\nsource_name          bf_f07_23_bahnhofstr  bf_f08_166_luppmenweg  \\\ntimestamp                                                          \n2019-01-01 00:00:00               15.9600                    NaN   \n2019-01-01 00:02:30               16.0710                    NaN   \n2019-01-01 00:05:00               16.1820                15.6850   \n2019-01-01 00:07:30               16.0905                15.6660   \n2019-01-01 00:10:00               15.9990                15.6470   \n...                                   ...                    ...   \n2021-12-31 23:47:30                3.2390                30.8080   \n2021-12-31 23:50:00                3.2470                31.0030   \n2021-12-31 23:52:30                3.4180                30.9465   \n2021-12-31 23:55:00                3.5890                30.8900   \n2021-12-31 23:57:30                3.5890                30.8900   \n\nsource_name          bf_f10_22a_bahnhofstr  bf_f12_47a_zurcherstr  \\\ntimestamp                                                           \n2019-01-01 00:00:00                19.9040                    NaN   \n2019-01-01 00:02:30                20.2855                    NaN   \n2019-01-01 00:05:00                20.6670                    NaN   \n2019-01-01 00:07:30                20.7725                    NaN   \n2019-01-01 00:10:00                20.8780                    NaN   \n...                                    ...                    ...   \n2021-12-31 23:47:30                    NaN                  4.404   \n2021-12-31 23:50:00                    NaN                  4.404   \n2021-12-31 23:52:30                    NaN                  4.421   \n2021-12-31 23:55:00                    NaN                  4.438   \n2021-12-31 23:57:30                    NaN                  4.438   \n\nsource_name          bf_plsRKBA1101_rubbasin_ara_overflow  \\\ntimestamp                                                   \n2019-01-01 00:00:00                                   0.0   \n2019-01-01 00:02:30                                   0.0   \n2019-01-01 00:05:00                                   0.0   \n2019-01-01 00:07:30                                   0.0   \n2019-01-01 00:10:00                                   0.0   \n...                                                   ...   \n2021-12-31 23:47:30                                   0.0   \n2021-12-31 23:50:00                                   0.0   \n2021-12-31 23:52:30                                   0.0   \n2021-12-31 23:55:00                                   0.0   \n2021-12-31 23:57:30                                   0.0   \n\nsource_name          bf_plsRKBM1101_3r_rub_morg_overflow  \\\ntimestamp                                                  \n2019-01-01 00:00:00                                  0.0   \n2019-01-01 00:02:30                                  0.0   \n2019-01-01 00:05:00                                  0.0   \n2019-01-01 00:07:30                                  0.0   \n2019-01-01 00:10:00                                  0.0   \n...                                                  ...   \n2021-12-31 23:47:30                                  0.0   \n2021-12-31 23:50:00                                  0.0   \n2021-12-31 23:52:30                                  0.0   \n2021-12-31 23:55:00                                  0.0   \n2021-12-31 23:57:30                                  0.0   \n\nsource_name          bf_plsRKBU1101_rub128basin_usterstr  \\\ntimestamp                                                  \n2019-01-01 00:00:00                            15.700000   \n2019-01-01 00:02:30                            15.611400   \n2019-01-01 00:05:00                            15.396033   \n2019-01-01 00:07:30                            16.112200   \n2019-01-01 00:10:00                            16.246167   \n...                                                  ...   \n2021-12-31 23:47:30                            27.921200   \n2021-12-31 23:50:00                            28.272133   \n2021-12-31 23:52:30                            28.500300   \n2021-12-31 23:55:00                            28.921300   \n2021-12-31 23:57:30                            28.949950   \n\nsource_name          bf_plsRKBU1102_rub128basin_overflow  \\\ntimestamp                                                  \n2019-01-01 00:00:00                                  0.0   \n2019-01-01 00:02:30                                  0.0   \n2019-01-01 00:05:00                                  0.0   \n2019-01-01 00:07:30                                  0.0   \n2019-01-01 00:10:00                                  0.0   \n...                                                  ...   \n2021-12-31 23:47:30                                  0.0   \n2021-12-31 23:50:00                                  0.0   \n2021-12-31 23:52:30                                  0.0   \n2021-12-31 23:55:00                                  0.0   \n2021-12-31 23:57:30                                  0.0   \n\nsource_name          bf_plsRKPI1102_rubpw80sbw_overflow  \\\ntimestamp                                                 \n2019-01-01 00:00:00                                 0.0   \n2019-01-01 00:02:30                                 0.0   \n2019-01-01 00:05:00                                 0.0   \n2019-01-01 00:07:30                                 0.0   \n2019-01-01 00:10:00                                 0.0   \n...                                                 ...   \n2021-12-31 23:47:30                                 0.0   \n2021-12-31 23:50:00                                 0.0   \n2021-12-31 23:52:30                                 0.0   \n2021-12-31 23:55:00                                 0.0   \n2021-12-31 23:57:30                                 0.0   \n\nsource_name          bf_plsZUL1100_inflow_ara  \ntimestamp                                      \n2019-01-01 00:00:00                 37.369167  \n2019-01-01 00:02:30                 36.431400  \n2019-01-01 00:05:00                 36.842633  \n2019-01-01 00:07:30                 38.571350  \n2019-01-01 00:10:00                 39.908133  \n...                                       ...  \n2021-12-31 23:47:30                 55.268750  \n2021-12-31 23:50:00                 53.711100  \n2021-12-31 23:52:30                 52.756600  \n2021-12-31 23:55:00                 53.585033  \n2021-12-31 23:57:30                 53.060450  \n\n[631296 rows x 12 columns]",
      "text/html": "<div>\n<style scoped>\n    .dataframe tbody tr th:only-of-type {\n        vertical-align: middle;\n    }\n\n    .dataframe tbody tr th {\n        vertical-align: top;\n    }\n\n    .dataframe thead th {\n        text-align: right;\n    }\n</style>\n<table border=\"1\" class=\"dataframe\">\n  <thead>\n    <tr style=\"text-align: right;\">\n      <th>source_name</th>\n      <th>bf_f02_555_mesikerstr</th>\n      <th>bf_f03_11e_russikerstr</th>\n      <th>bf_f07_23_bahnhofstr</th>\n      <th>bf_f08_166_luppmenweg</th>\n      <th>bf_f10_22a_bahnhofstr</th>\n      <th>bf_f12_47a_zurcherstr</th>\n      <th>bf_plsRKBA1101_rubbasin_ara_overflow</th>\n      <th>bf_plsRKBM1101_3r_rub_morg_overflow</th>\n      <th>bf_plsRKBU1101_rub128basin_usterstr</th>\n      <th>bf_plsRKBU1102_rub128basin_overflow</th>\n      <th>bf_plsRKPI1102_rubpw80sbw_overflow</th>\n      <th>bf_plsZUL1100_inflow_ara</th>\n    </tr>\n    <tr>\n      <th>timestamp</th>\n      <th></th>\n      <th></th>\n      <th></th>\n      <th></th>\n      <th></th>\n      <th></th>\n      <th></th>\n      <th></th>\n      <th></th>\n      <th></th>\n      <th></th>\n      <th></th>\n    </tr>\n  </thead>\n  <tbody>\n    <tr>\n      <th>2019-01-01 00:00:00</th>\n      <td>4.813899</td>\n      <td>15.042012</td>\n      <td>15.9600</td>\n      <td>NaN</td>\n      <td>19.9040</td>\n      <td>NaN</td>\n      <td>0.0</td>\n      <td>0.0</td>\n      <td>15.700000</td>\n      <td>0.0</td>\n      <td>0.0</td>\n      <td>37.369167</td>\n    </tr>\n    <tr>\n      <th>2019-01-01 00:02:30</th>\n      <td>4.647061</td>\n      <td>14.994626</td>\n      <td>16.0710</td>\n      <td>NaN</td>\n      <td>20.2855</td>\n      <td>NaN</td>\n      <td>0.0</td>\n      <td>0.0</td>\n      <td>15.611400</td>\n      <td>0.0</td>\n      <td>0.0</td>\n      <td>36.431400</td>\n    </tr>\n    <tr>\n      <th>2019-01-01 00:05:00</th>\n      <td>4.480223</td>\n      <td>14.947239</td>\n      <td>16.1820</td>\n      <td>15.6850</td>\n      <td>20.6670</td>\n      <td>NaN</td>\n      <td>0.0</td>\n      <td>0.0</td>\n      <td>15.396033</td>\n      <td>0.0</td>\n      <td>0.0</td>\n      <td>36.842633</td>\n    </tr>\n    <tr>\n      <th>2019-01-01 00:07:30</th>\n      <td>4.591586</td>\n      <td>14.620884</td>\n      <td>16.0905</td>\n      <td>15.6660</td>\n      <td>20.7725</td>\n      <td>NaN</td>\n      <td>0.0</td>\n      <td>0.0</td>\n      <td>16.112200</td>\n      <td>0.0</td>\n      <td>0.0</td>\n      <td>38.571350</td>\n    </tr>\n    <tr>\n      <th>2019-01-01 00:10:00</th>\n      <td>4.702949</td>\n      <td>14.294528</td>\n      <td>15.9990</td>\n      <td>15.6470</td>\n      <td>20.8780</td>\n      <td>NaN</td>\n      <td>0.0</td>\n      <td>0.0</td>\n      <td>16.246167</td>\n      <td>0.0</td>\n      <td>0.0</td>\n      <td>39.908133</td>\n    </tr>\n    <tr>\n      <th>...</th>\n      <td>...</td>\n      <td>...</td>\n      <td>...</td>\n      <td>...</td>\n      <td>...</td>\n      <td>...</td>\n      <td>...</td>\n      <td>...</td>\n      <td>...</td>\n      <td>...</td>\n      <td>...</td>\n      <td>...</td>\n    </tr>\n    <tr>\n      <th>2021-12-31 23:47:30</th>\n      <td>9.723166</td>\n      <td>NaN</td>\n      <td>3.2390</td>\n      <td>30.8080</td>\n      <td>NaN</td>\n      <td>4.404</td>\n      <td>0.0</td>\n      <td>0.0</td>\n      <td>27.921200</td>\n      <td>0.0</td>\n      <td>0.0</td>\n      <td>55.268750</td>\n    </tr>\n    <tr>\n      <th>2021-12-31 23:50:00</th>\n      <td>9.936902</td>\n      <td>NaN</td>\n      <td>3.2470</td>\n      <td>31.0030</td>\n      <td>NaN</td>\n      <td>4.404</td>\n      <td>0.0</td>\n      <td>0.0</td>\n      <td>28.272133</td>\n      <td>0.0</td>\n      <td>0.0</td>\n      <td>53.711100</td>\n    </tr>\n    <tr>\n      <th>2021-12-31 23:52:30</th>\n      <td>10.034887</td>\n      <td>NaN</td>\n      <td>3.4180</td>\n      <td>30.9465</td>\n      <td>NaN</td>\n      <td>4.421</td>\n      <td>0.0</td>\n      <td>0.0</td>\n      <td>28.500300</td>\n      <td>0.0</td>\n      <td>0.0</td>\n      <td>52.756600</td>\n    </tr>\n    <tr>\n      <th>2021-12-31 23:55:00</th>\n      <td>10.132872</td>\n      <td>NaN</td>\n      <td>3.5890</td>\n      <td>30.8900</td>\n      <td>NaN</td>\n      <td>4.438</td>\n      <td>0.0</td>\n      <td>0.0</td>\n      <td>28.921300</td>\n      <td>0.0</td>\n      <td>0.0</td>\n      <td>53.585033</td>\n    </tr>\n    <tr>\n      <th>2021-12-31 23:57:30</th>\n      <td>10.132872</td>\n      <td>NaN</td>\n      <td>3.5890</td>\n      <td>30.8900</td>\n      <td>NaN</td>\n      <td>4.438</td>\n      <td>0.0</td>\n      <td>0.0</td>\n      <td>28.949950</td>\n      <td>0.0</td>\n      <td>0.0</td>\n      <td>53.060450</td>\n    </tr>\n  </tbody>\n</table>\n<p>631296 rows × 12 columns</p>\n</div>"
     },
     "execution_count": 10,
     "metadata": {},
     "output_type": "execute_result"
    }
   ],
   "source": [
    "df_resampled.isna().sum() # Depends alot on the limit param in interpolate, how much data generation makes sense?\n",
    "df_resampled"
   ],
   "metadata": {
    "collapsed": false,
    "ExecuteTime": {
     "end_time": "2024-03-12T09:09:11.643715Z",
     "start_time": "2024-03-12T09:09:11.611503Z"
    }
   },
   "id": "2dc3cae407c7907",
   "execution_count": 10
  },
  {
   "cell_type": "code",
   "outputs": [],
   "source": [
    "df_resampled.to_feather('./temp/resampled_to_2_30')"
   ],
   "metadata": {
    "collapsed": false,
    "ExecuteTime": {
     "end_time": "2024-03-12T09:09:40.291535Z",
     "start_time": "2024-03-12T09:09:40.198099Z"
    }
   },
   "id": "dd3700fe00c2d64a",
   "execution_count": 11
  },
  {
   "cell_type": "markdown",
   "source": [
    "# Plot the data with bokeh"
   ],
   "metadata": {
    "collapsed": false
   },
   "id": "9b7290d8830b5c34"
  },
  {
   "cell_type": "code",
   "outputs": [],
   "source": [
    "df_resampled = df_resampled.reset_index()\n",
    "df_resampled.dtypes\n"
   ],
   "metadata": {
    "collapsed": false
   },
   "id": "9fda125863b6eb14",
   "execution_count": null
  },
  {
   "cell_type": "code",
   "outputs": [],
   "source": [
    "# Prepare the data for Bokeh\n",
    "source = ColumnDataSource(df_resampled)\n",
    "# Define the initial view range\n",
    "\n",
    "# Create a figure with a datetime x-axis and tools for zooming and panning\n",
    "p = figure(width=1200, height=500, x_axis_type=\"datetime\",\n",
    "           title=\"Flow rate Over Time\", tools=\"xpan,xwheel_zoom,reset,save\",\n",
    "           background_fill_color=\"#efefef\") \n",
    "\n",
    "p.xaxis.axis_label = \"Timestamp\"\n",
    "p.yaxis.axis_label = \"Sensor Value\"\n",
    "\n",
    "# Add hover tool\n",
    "hover = HoverTool(tooltips=[('Sensor', '$name'), ('Value', '@$name')])\n",
    "p.add_tools(hover)\n",
    "\n",
    "# Keep track of legend items\n",
    "legend_items = []\n",
    "\n",
    "# Plot each sensor data\n",
    "colors = Category20[12]  # Make sure to check the number of columns doesn't exceed the palette length\n",
    "for i, column in enumerate(df_resampled.columns):\n",
    "    # Skip the timestamp column when plotting sensor data\n",
    "    if column == 'timestamp':\n",
    "        continue\n",
    "    line = p.line(x='timestamp', y=column, source=source, line_width=2, color=colors[i % 12], name=column)\n",
    "    legend_items.append(LegendItem(label=column, renderers=[line]))\n",
    "\n",
    "# Create and add legend\n",
    "legend = Legend(items=legend_items, click_policy=\"hide\")\n",
    "p.add_layout(legend, 'right')\n",
    "\n",
    "# Output\n",
    "#output_file(\"flow_rate.html\")\n",
    "output_notebook()\n",
    "# Display the plot \n",
    "show(p)# \n"
   ],
   "metadata": {
    "collapsed": false
   },
   "id": "a94a9347201e590d",
   "execution_count": null
  },
  {
   "cell_type": "markdown",
   "source": [
    "Loading this plot takes ages, I can't really read anything from it, it's pretty much useless.. Besides from seeing all the data at once. What actually helps to easily identfy outliers and anomalies in our data. In particular the Zürcherstrasse & Bahnhofstrasse 23 sensors seem to produce weird data"
   ],
   "metadata": {
    "collapsed": false
   },
   "id": "96850de9951749a0"
  }
 ],
 "metadata": {
  "kernelspec": {
   "display_name": "Python 3",
   "language": "python",
   "name": "python3"
  },
  "language_info": {
   "codemirror_mode": {
    "name": "ipython",
    "version": 2
   },
   "file_extension": ".py",
   "mimetype": "text/x-python",
   "name": "python",
   "nbconvert_exporter": "python",
   "pygments_lexer": "ipython2",
   "version": "2.7.6"
  }
 },
 "nbformat": 4,
 "nbformat_minor": 5
}
